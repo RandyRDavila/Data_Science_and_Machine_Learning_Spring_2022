{
 "cells": [
  {
   "cell_type": "markdown",
   "metadata": {},
   "source": [
    "---\n",
    "\n",
    "# Lecture 10. $k$-Means Clustering\n",
    "\n",
    "In this lecture we begin our study of unsupervised machine learning techniques and algorithms. Unlike supervised learning, unsupervised learning deals with *unlabeled* data. As such, the techniques used are vastly different than those found in supervised learning. Unsupervised learning typically falls within the following two reahlms:\n",
    "\n",
    "1. **Clustering**\n",
    "\n",
    "2. **Dimensionality Reduction**\n",
    "\n",
    "\n",
    "---"
   ]
  },
  {
   "cell_type": "code",
   "execution_count": null,
   "metadata": {},
   "outputs": [],
   "source": [
    "import matplotlib.pyplot as plt\n",
    "import numpy as np\n",
    "import pandas as pd\n",
    "import seaborn as sns\n",
    "\n",
    "# Set theme \n",
    "sns.set_theme()\n",
    "\n",
    "from sklearn.datasets import make_blobs\n",
    "X, y = make_blobs(n_samples = 200, centers = 4, n_features = 2, random_state = 0)"
   ]
  },
  {
   "cell_type": "code",
   "execution_count": null,
   "metadata": {},
   "outputs": [],
   "source": [
    "def colors(y):\n",
    "    if y == 0:\n",
    "        return \"red\"\n",
    "    elif y == 1:\n",
    "        return \"lightseagreen\"\n",
    "    elif y == 2:\n",
    "        return \"magenta\"\n",
    "    else:\n",
    "        return \"blue\"\n",
    "\n",
    "c = [colors(label) for label in y]"
   ]
  },
  {
   "cell_type": "code",
   "execution_count": null,
   "metadata": {},
   "outputs": [],
   "source": [
    "plt.figure(figsize = (10, 8))\n",
    "plt.scatter(X[:, 0], X[:, 1])\n",
    "plt.show()"
   ]
  },
  {
   "cell_type": "code",
   "execution_count": null,
   "metadata": {},
   "outputs": [],
   "source": [
    "\n",
    "centers = []\n",
    "for k in range(3):\n",
    "    i = np.random.randint(0, 100)\n",
    "    point = (X[i, 0], X[i, 1], k)\n",
    "    centers.append(point)"
   ]
  },
  {
   "cell_type": "code",
   "execution_count": null,
   "metadata": {},
   "outputs": [],
   "source": [
    "plt.figure(figsize = (10, 8))\n",
    "plt.scatter(X[:, 0], X[:, 1])\n",
    "plt.scatter([centers[0][0]], [centers[0][1]], color = \"red\", label = centers[0][2])\n",
    "plt.scatter([centers[1][0]], [centers[1][1]], color = \"lightseagreen\", label = centers[1][2])\n",
    "plt.scatter([centers[2][0]], [centers[2][1]], color = \"magenta\", label = centers[2][2])\n",
    "plt.legend()\n",
    "plt.show()"
   ]
  },
  {
   "cell_type": "code",
   "execution_count": null,
   "metadata": {},
   "outputs": [],
   "source": [
    "def distance(i, X, center):\n",
    "    return np.sqrt(sum((X[i, j] - center[j])**2 for j in range(2)))"
   ]
  },
  {
   "cell_type": "code",
   "execution_count": null,
   "metadata": {},
   "outputs": [],
   "source": [
    "def assign_label(i, X, centers):\n",
    "    distances = np.array([distance(i, X, center) for center in centers])\n",
    "    label = np.argmin(distances)\n",
    "    return label "
   ]
  },
  {
   "cell_type": "code",
   "execution_count": null,
   "metadata": {},
   "outputs": [],
   "source": [
    "def assign_clusters(X, centers):\n",
    "    return [assign_label(i, X, centers) for i in range(len(X))]\n"
   ]
  },
  {
   "cell_type": "code",
   "execution_count": null,
   "metadata": {},
   "outputs": [],
   "source": [
    "current_labels = assign_clusters(X, centers)\n",
    "current_colors = [colors(label) for label in current_labels]\n",
    "\n",
    "fig, (ax1, ax2) = plt.subplots(1, 2, figsize = (15, 10))\n",
    "ax1.scatter(X[:, 0], X[:, 1], c = c)\n",
    "\n",
    "ax2.scatter(X[:, 0], X[:, 1], c = current_colors)\n",
    "ax2.scatter([centers[0][0]], [centers[0][1]], color = \"red\", label = centers[0][2])\n",
    "ax2.scatter([centers[1][0]], [centers[1][1]], color = \"lightseagreen\", label = centers[1][2])\n",
    "ax2.scatter([centers[2][0]], [centers[2][1]], color = \"magenta\", label = centers[2][2])\n",
    "\n",
    "plt.show()"
   ]
  },
  {
   "cell_type": "code",
   "execution_count": null,
   "metadata": {},
   "outputs": [],
   "source": [
    "def update_centers(X, centers):\n",
    "    current_labels = assign_clusters(X, centers)\n",
    "    k = len(centers)\n",
    "    center_means = {i : [0, 0] for i in range(k)}\n",
    "    for i in range(len(X)):\n",
    "        center_means[current_labels[i]][0] += X[i, 0]\n",
    "        center_means[current_labels[i]][1] += X[i, 1]\n",
    "\n",
    "    for i in range(k):\n",
    "        num_occur = current_labels.count(i)\n",
    "        center_means[i][0] = center_means[i][0]/num_occur\n",
    "        center_means[i][1] = center_means[i][1]/num_occur\n",
    "    \n",
    "    return [(center_means[i][0], center_means[i][1]) for i in center_means]\n",
    "        \n",
    "\n"
   ]
  },
  {
   "cell_type": "code",
   "execution_count": null,
   "metadata": {},
   "outputs": [],
   "source": [
    "new_centers = update_centers(X, centers)"
   ]
  },
  {
   "cell_type": "code",
   "execution_count": null,
   "metadata": {},
   "outputs": [],
   "source": [
    "new_centers = update_centers(X, centers)\n",
    "current_labels = assign_clusters(X, new_centers)\n",
    "current_colors = [colors(label) for label in current_labels]\n",
    "\n",
    "fig, (ax1, ax2) = plt.subplots(1, 2, figsize = (15, 10))\n",
    "ax1.scatter(X[:, 0], X[:, 1], c = c)\n",
    "\n",
    "ax2.scatter(X[:, 0], X[:, 1], c = current_colors)\n"
   ]
  },
  {
   "cell_type": "code",
   "execution_count": null,
   "metadata": {},
   "outputs": [],
   "source": [
    "new_centers = update_centers(X, new_centers)\n",
    "current_labels = assign_clusters(X, new_centers)\n",
    "current_colors = [colors(label) for label in current_labels]\n",
    "\n",
    "fig, (ax1, ax2) = plt.subplots(1, 2, figsize = (15, 10))\n",
    "ax1.scatter(X[:, 0], X[:, 1], c = c)\n",
    "\n",
    "ax2.scatter(X[:, 0], X[:, 1], c = current_colors)\n",
    "plt.show()"
   ]
  },
  {
   "cell_type": "code",
   "execution_count": null,
   "metadata": {},
   "outputs": [],
   "source": [
    "def k_means_clustering(X, k, max_iter = 100):\n",
    "    centers = []\n",
    "    for j in range(k):\n",
    "        i = np.random.randint(0, 100)\n",
    "        point = (X[i, 0], X[i, 1], j)\n",
    "        centers.append(point)\n",
    "    \n",
    "    for _ in range(max_iter):\n",
    "        centers = update_centers(X, centers)\n",
    "\n",
    "    return centers\n",
    "    "
   ]
  },
  {
   "cell_type": "code",
   "execution_count": null,
   "metadata": {},
   "outputs": [],
   "source": [
    "centers = k_means_clustering(X, 2)"
   ]
  },
  {
   "cell_type": "code",
   "execution_count": null,
   "metadata": {},
   "outputs": [],
   "source": [
    "centers = k_means_clustering(X, 2)\n",
    "current_labels = assign_clusters(X, centers)\n",
    "current_colors = [colors(label) for label in current_labels]\n",
    "\n",
    "fig, (ax1, ax2) = plt.subplots(1, 2, figsize = (15, 10))\n",
    "ax1.scatter(X[:, 0], X[:, 1], c = c)\n",
    "\n",
    "ax2.scatter(X[:, 0], X[:, 1], c = current_colors)\n",
    "plt.show()"
   ]
  },
  {
   "cell_type": "code",
   "execution_count": null,
   "metadata": {},
   "outputs": [],
   "source": []
  }
 ],
 "metadata": {
  "interpreter": {
   "hash": "40d3a090f54c6569ab1632332b64b2c03c39dcf918b08424e98f38b5ae0af88f"
  },
  "kernelspec": {
   "display_name": "Python 3.8.5 ('base')",
   "language": "python",
   "name": "python3"
  },
  "language_info": {
   "codemirror_mode": {
    "name": "ipython",
    "version": 3
   },
   "file_extension": ".py",
   "mimetype": "text/x-python",
   "name": "python",
   "nbconvert_exporter": "python",
   "pygments_lexer": "ipython3",
   "version": "3.8.5"
  },
  "orig_nbformat": 4
 },
 "nbformat": 4,
 "nbformat_minor": 2
}
